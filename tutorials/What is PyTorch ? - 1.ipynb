{
 "cells": [
  {
   "attachments": {},
   "cell_type": "markdown",
   "metadata": {},
   "source": [
    "### 시작하기"
   ]
  },
  {
   "cell_type": "code",
   "execution_count": 1,
   "metadata": {},
   "outputs": [],
   "source": [
    "# Tensor\n",
    "# Tensor는 Numpy의 ndarrays와 비슷하며, 추가적으로 계산을 빠르게 하기 위해 GPU/MPS에서 사용이 가능합니다.\n",
    "from __future__ import print_function\n",
    "import torch"
   ]
  },
  {
   "attachments": {},
   "cell_type": "markdown",
   "metadata": {},
   "source": [
    "### Note\n",
    "##### 초기화되지 않은 행렬이 선언되지 않았지만, 사용하기 전에  정확하게 알려진 값들을 포함하지 않습니다.\n",
    "##### 초기화되지 않은 행렬이 생성 되었을 때, 그때 메모리에 할당된 어떤 값이든지 초기 값으로 나타날 것입니다.\n"
   ]
  },
  {
   "cell_type": "code",
   "execution_count": 3,
   "metadata": {},
   "outputs": [
    {
     "name": "stdout",
     "output_type": "stream",
     "text": [
      "tensor([[0., 0., 0.],\n",
      "        [0., 0., 0.],\n",
      "        [0., 0., 0.],\n",
      "        [0., 0., 0.],\n",
      "        [0., 0., 0.]])\n"
     ]
    }
   ],
   "source": [
    "# 초기화되지 않은 5x3 행렬 선언\n",
    "x = torch.empty(5, 3)\n",
    "print(x)"
   ]
  },
  {
   "cell_type": "code",
   "execution_count": 4,
   "metadata": {},
   "outputs": [
    {
     "name": "stdout",
     "output_type": "stream",
     "text": [
      "tensor([[ 2.1263, -1.4520, -0.6851],\n",
      "        [ 0.7791,  0.9374, -1.2152],\n",
      "        [ 0.5625,  0.0032, -0.1199],\n",
      "        [ 0.5409, -0.4640, -0.1520],\n",
      "        [ 0.4223,  0.4172, -0.8257]])\n"
     ]
    }
   ],
   "source": [
    "# 임의적으로 초기화된 행렬 생성\n",
    "x = torch.randn(5, 3)\n",
    "print(x)"
   ]
  },
  {
   "cell_type": "code",
   "execution_count": 5,
   "metadata": {},
   "outputs": [
    {
     "name": "stdout",
     "output_type": "stream",
     "text": [
      "tensor([[0, 0, 0],\n",
      "        [0, 0, 0],\n",
      "        [0, 0, 0],\n",
      "        [0, 0, 0],\n",
      "        [0, 0, 0]])\n"
     ]
    }
   ],
   "source": [
    "# 데이터 타입이 long인 0 행렬 생성\n",
    "x = torch.zeros(5, 3, dtype=torch.long)\n",
    "print(x)"
   ]
  },
  {
   "cell_type": "code",
   "execution_count": 6,
   "metadata": {},
   "outputs": [
    {
     "name": "stdout",
     "output_type": "stream",
     "text": [
      "tensor([5.5000, 3.0000])\n"
     ]
    }
   ],
   "source": [
    "# data로부터 직접 tensor 생성\n",
    "x = torch.tensor([5.5, 3])\n",
    "print(x)"
   ]
  },
  {
   "cell_type": "code",
   "execution_count": 7,
   "metadata": {},
   "outputs": [
    {
     "name": "stdout",
     "output_type": "stream",
     "text": [
      "tensor([[1., 1., 1.],\n",
      "        [1., 1., 1.],\n",
      "        [1., 1., 1.],\n",
      "        [1., 1., 1.],\n",
      "        [1., 1., 1.]], dtype=torch.float64)\n",
      "tensor([[ 2.2708e-01,  1.0495e+00, -1.2772e+00],\n",
      "        [-1.6085e+00,  9.6866e-01, -1.2473e+00],\n",
      "        [-9.3765e-01,  1.5851e+00, -6.9355e-01],\n",
      "        [-1.0415e+00,  5.8110e-01,  9.4333e-04],\n",
      "        [-1.5533e+00, -3.3842e-01, -6.4799e-01]])\n"
     ]
    }
   ],
   "source": [
    "# 기존에 존재하는 tensor에 기반한 tensor 생성하기\n",
    "# 이 메소드는 유저에 의해 새로운 값들이 제공되지 않는다면, 입력 tensor의 성질들을 재사용 합니다. (e.g. dtype)\n",
    "x = x.new_ones(5, 3, dtype=torch.double) # new_* 메소드는 크기를 받는다.\n",
    "print(x)\n",
    "\n",
    "x = torch.randn_like(x, dtype=torch.float) # dtype override!\n",
    "print(x)                                   # 결과는 동일한 크기를 갖는다."
   ]
  },
  {
   "cell_type": "code",
   "execution_count": 8,
   "metadata": {},
   "outputs": [
    {
     "name": "stdout",
     "output_type": "stream",
     "text": [
      "torch.Size([5, 3])\n"
     ]
    }
   ],
   "source": [
    "# 행렬 사이즈 검출\n",
    "print(x.size())"
   ]
  },
  {
   "attachments": {},
   "cell_type": "markdown",
   "metadata": {},
   "source": [
    "### Note\n",
    "##### torch.Size는 튜플입니다.\n",
    "##### 따라서 튜플 연산을 지원합니다."
   ]
  },
  {
   "attachments": {},
   "cell_type": "markdown",
   "metadata": {},
   "source": [
    "### 연산 - Operations\n",
    "##### 연산에는 다양한 문법들이 있습니다.\n",
    "##### 다음의 예제에서 덧셈 연산을 살펴보겠습니다.\n",
    "\n"
   ]
  },
  {
   "cell_type": "code",
   "execution_count": 9,
   "metadata": {},
   "outputs": [
    {
     "name": "stdout",
     "output_type": "stream",
     "text": [
      "tensor([[ 0.9848,  1.9424, -0.7776],\n",
      "        [-1.0540,  1.4525, -1.2175],\n",
      "        [-0.6127,  2.2301, -0.3827],\n",
      "        [-0.4101,  1.4889,  0.9433],\n",
      "        [-1.1567,  0.0761,  0.1039]])\n"
     ]
    }
   ],
   "source": [
    "# 덧셈 : 문법 1\n",
    "y = torch.rand(5, 3)\n",
    "print(x + y)"
   ]
  },
  {
   "cell_type": "code",
   "execution_count": 10,
   "metadata": {},
   "outputs": [
    {
     "name": "stdout",
     "output_type": "stream",
     "text": [
      "tensor([[ 0.9848,  1.9424, -0.7776],\n",
      "        [-1.0540,  1.4525, -1.2175],\n",
      "        [-0.6127,  2.2301, -0.3827],\n",
      "        [-0.4101,  1.4889,  0.9433],\n",
      "        [-1.1567,  0.0761,  0.1039]])\n"
     ]
    }
   ],
   "source": [
    "# 덧셈 : 문법 2\n",
    "print(torch.add(x, y))"
   ]
  },
  {
   "cell_type": "code",
   "execution_count": 11,
   "metadata": {},
   "outputs": [
    {
     "name": "stdout",
     "output_type": "stream",
     "text": [
      "tensor([[ 0.9848,  1.9424, -0.7776],\n",
      "        [-1.0540,  1.4525, -1.2175],\n",
      "        [-0.6127,  2.2301, -0.3827],\n",
      "        [-0.4101,  1.4889,  0.9433],\n",
      "        [-1.1567,  0.0761,  0.1039]])\n"
     ]
    }
   ],
   "source": [
    "# 덧셈 : 결과 tensor를 인자로 제공\n",
    "result = torch.empty(5, 3)\n",
    "torch.add(x, y, out=result)\n",
    "print(result)"
   ]
  },
  {
   "cell_type": "code",
   "execution_count": 12,
   "metadata": {},
   "outputs": [
    {
     "name": "stdout",
     "output_type": "stream",
     "text": [
      "tensor([[ 0.9848,  1.9424, -0.7776],\n",
      "        [-1.0540,  1.4525, -1.2175],\n",
      "        [-0.6127,  2.2301, -0.3827],\n",
      "        [-0.4101,  1.4889,  0.9433],\n",
      "        [-1.1567,  0.0761,  0.1039]])\n"
     ]
    }
   ],
   "source": [
    "# 덧셈 : in-place\n",
    "# (별도의 보조 데이터 구조를 사용하지 않고 입력값 input을 변환하는 알고리즘, 교체 또는 교환을 통해서만 업데이트)\n",
    "\n",
    "# x를 y에 더하기\n",
    "y.add_(x)\n",
    "print(y)"
   ]
  },
  {
   "attachments": {},
   "cell_type": "markdown",
   "metadata": {},
   "source": [
    "### Note\n",
    "##### in-place로 tensor를 변형하는 연산은 뒤에 _가 붙습니다.\n",
    "##### 예를 들어 x.copy_(y), x.t_()는 x를 변환합니다\n"
   ]
  },
  {
   "cell_type": "code",
   "execution_count": 13,
   "metadata": {},
   "outputs": [
    {
     "name": "stdout",
     "output_type": "stream",
     "text": [
      "tensor([ 1.0495,  0.9687,  1.5851,  0.5811, -0.3384])\n"
     ]
    }
   ],
   "source": [
    "# Numpy와 같은 indexing 표기법을 사용할 수 있습니다.\n",
    "print(x[:,1])"
   ]
  },
  {
   "cell_type": "code",
   "execution_count": 15,
   "metadata": {},
   "outputs": [
    {
     "name": "stdout",
     "output_type": "stream",
     "text": [
      "torch.Size([4, 4]) torch.Size([16]) torch.Size([2, 8])\n"
     ]
    }
   ],
   "source": [
    "# 크기 조정 : tensor를 resize/reshape하고 싶으면 torch.view를 사용할 수 있습니다.\n",
    "x = torch.randn(4, 4)\n",
    "y = x.view(16)\n",
    "z = x.view(-1, 8) # 크기 -1은 다른 차원으로부터 추론됩니다.\n",
    "print(x.size(), y.size(), z.size())"
   ]
  },
  {
   "cell_type": "code",
   "execution_count": 16,
   "metadata": {},
   "outputs": [
    {
     "name": "stdout",
     "output_type": "stream",
     "text": [
      "tensor([-1.0460])\n",
      "-1.045987606048584\n"
     ]
    }
   ],
   "source": [
    "# 하나의 원소로 구성된 tensor를 갖고 있다면, 숫자 값을 얻기 위해 .item()를 사용합니다.\n",
    "x = torch.randn(1)\n",
    "print(x)\n",
    "print(x.item())"
   ]
  },
  {
   "attachments": {},
   "cell_type": "markdown",
   "metadata": {},
   "source": [
    "### 추후에 읽을 거리\n",
    "\n",
    "##### 전치(transposing), 인덱싱(indexing), 슬라이싱(slicing), 수학적인 연산, 선형대수학, 난수(random number) 등을 포함한 100가지 이상의 Tensor 연산을 아래 기술되어 있습니다.\n",
    "##### https://pytorch.org/docs/stable/torch.html"
   ]
  },
  {
   "cell_type": "markdown",
   "metadata": {},
   "source": []
  }
 ],
 "metadata": {
  "kernelspec": {
   "display_name": "machine",
   "language": "python",
   "name": "python3"
  },
  "language_info": {
   "codemirror_mode": {
    "name": "ipython",
    "version": 3
   },
   "file_extension": ".py",
   "mimetype": "text/x-python",
   "name": "python",
   "nbconvert_exporter": "python",
   "pygments_lexer": "ipython3",
   "version": "3.9.13 | packaged by conda-forge | (main, May 27 2022, 17:00:33) \n[Clang 13.0.1 ]"
  },
  "orig_nbformat": 4,
  "vscode": {
   "interpreter": {
    "hash": "ba36d0bac3973a45270dac29dd7867478d264cacedda49a3de9c10c6ae4d60ef"
   }
  }
 },
 "nbformat": 4,
 "nbformat_minor": 2
}
